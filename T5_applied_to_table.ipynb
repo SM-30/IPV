{
  "nbformat": 4,
  "nbformat_minor": 0,
  "metadata": {
    "colab": {
      "provenance": [],
      "collapsed_sections": [],
      "authorship_tag": "ABX9TyODt5fU7V0rLWLMhJEMQRbv",
      "include_colab_link": true
    },
    "kernelspec": {
      "name": "python3",
      "display_name": "Python 3"
    },
    "language_info": {
      "name": "python"
    },
    "widgets": {
      "application/vnd.jupyter.widget-state+json": {
        "a689814b9ca04713a716bdc5d90124cc": {
          "model_module": "@jupyter-widgets/controls",
          "model_name": "HBoxModel",
          "model_module_version": "1.5.0",
          "state": {
            "_dom_classes": [],
            "_model_module": "@jupyter-widgets/controls",
            "_model_module_version": "1.5.0",
            "_model_name": "HBoxModel",
            "_view_count": null,
            "_view_module": "@jupyter-widgets/controls",
            "_view_module_version": "1.5.0",
            "_view_name": "HBoxView",
            "box_style": "",
            "children": [
              "IPY_MODEL_f6c77f4119e5470d80f03fcd37a86d81",
              "IPY_MODEL_4dc733d1445847cfaf33b0fa760af7a0",
              "IPY_MODEL_118132a30513409ea7c99e5d0d20972c"
            ],
            "layout": "IPY_MODEL_12b9ba1c25e94ebe8fda2788f67357ed"
          }
        },
        "f6c77f4119e5470d80f03fcd37a86d81": {
          "model_module": "@jupyter-widgets/controls",
          "model_name": "HTMLModel",
          "model_module_version": "1.5.0",
          "state": {
            "_dom_classes": [],
            "_model_module": "@jupyter-widgets/controls",
            "_model_module_version": "1.5.0",
            "_model_name": "HTMLModel",
            "_view_count": null,
            "_view_module": "@jupyter-widgets/controls",
            "_view_module_version": "1.5.0",
            "_view_name": "HTMLView",
            "description": "",
            "description_tooltip": null,
            "layout": "IPY_MODEL_08b4dcf872af47738041def956e3479d",
            "placeholder": "​",
            "style": "IPY_MODEL_1abdd0b5df0d43699c05b5cacd2bab9e",
            "value": "Downloading config.json: 100%"
          }
        },
        "4dc733d1445847cfaf33b0fa760af7a0": {
          "model_module": "@jupyter-widgets/controls",
          "model_name": "FloatProgressModel",
          "model_module_version": "1.5.0",
          "state": {
            "_dom_classes": [],
            "_model_module": "@jupyter-widgets/controls",
            "_model_module_version": "1.5.0",
            "_model_name": "FloatProgressModel",
            "_view_count": null,
            "_view_module": "@jupyter-widgets/controls",
            "_view_module_version": "1.5.0",
            "_view_name": "ProgressView",
            "bar_style": "success",
            "description": "",
            "description_tooltip": null,
            "layout": "IPY_MODEL_c7f7cbd36a814fb5aa8148a1f391a6d8",
            "max": 1199,
            "min": 0,
            "orientation": "horizontal",
            "style": "IPY_MODEL_d7822903e4b24dbe80241c6d7f0892fc",
            "value": 1199
          }
        },
        "118132a30513409ea7c99e5d0d20972c": {
          "model_module": "@jupyter-widgets/controls",
          "model_name": "HTMLModel",
          "model_module_version": "1.5.0",
          "state": {
            "_dom_classes": [],
            "_model_module": "@jupyter-widgets/controls",
            "_model_module_version": "1.5.0",
            "_model_name": "HTMLModel",
            "_view_count": null,
            "_view_module": "@jupyter-widgets/controls",
            "_view_module_version": "1.5.0",
            "_view_name": "HTMLView",
            "description": "",
            "description_tooltip": null,
            "layout": "IPY_MODEL_98ca2ecd60c74b698a8558ca3da9b8ea",
            "placeholder": "​",
            "style": "IPY_MODEL_ae2a769d3da74a318eacf8fde97d7947",
            "value": " 1.17k/1.17k [00:00&lt;00:00, 17.4kB/s]"
          }
        },
        "12b9ba1c25e94ebe8fda2788f67357ed": {
          "model_module": "@jupyter-widgets/base",
          "model_name": "LayoutModel",
          "model_module_version": "1.2.0",
          "state": {
            "_model_module": "@jupyter-widgets/base",
            "_model_module_version": "1.2.0",
            "_model_name": "LayoutModel",
            "_view_count": null,
            "_view_module": "@jupyter-widgets/base",
            "_view_module_version": "1.2.0",
            "_view_name": "LayoutView",
            "align_content": null,
            "align_items": null,
            "align_self": null,
            "border": null,
            "bottom": null,
            "display": null,
            "flex": null,
            "flex_flow": null,
            "grid_area": null,
            "grid_auto_columns": null,
            "grid_auto_flow": null,
            "grid_auto_rows": null,
            "grid_column": null,
            "grid_gap": null,
            "grid_row": null,
            "grid_template_areas": null,
            "grid_template_columns": null,
            "grid_template_rows": null,
            "height": null,
            "justify_content": null,
            "justify_items": null,
            "left": null,
            "margin": null,
            "max_height": null,
            "max_width": null,
            "min_height": null,
            "min_width": null,
            "object_fit": null,
            "object_position": null,
            "order": null,
            "overflow": null,
            "overflow_x": null,
            "overflow_y": null,
            "padding": null,
            "right": null,
            "top": null,
            "visibility": null,
            "width": null
          }
        },
        "08b4dcf872af47738041def956e3479d": {
          "model_module": "@jupyter-widgets/base",
          "model_name": "LayoutModel",
          "model_module_version": "1.2.0",
          "state": {
            "_model_module": "@jupyter-widgets/base",
            "_model_module_version": "1.2.0",
            "_model_name": "LayoutModel",
            "_view_count": null,
            "_view_module": "@jupyter-widgets/base",
            "_view_module_version": "1.2.0",
            "_view_name": "LayoutView",
            "align_content": null,
            "align_items": null,
            "align_self": null,
            "border": null,
            "bottom": null,
            "display": null,
            "flex": null,
            "flex_flow": null,
            "grid_area": null,
            "grid_auto_columns": null,
            "grid_auto_flow": null,
            "grid_auto_rows": null,
            "grid_column": null,
            "grid_gap": null,
            "grid_row": null,
            "grid_template_areas": null,
            "grid_template_columns": null,
            "grid_template_rows": null,
            "height": null,
            "justify_content": null,
            "justify_items": null,
            "left": null,
            "margin": null,
            "max_height": null,
            "max_width": null,
            "min_height": null,
            "min_width": null,
            "object_fit": null,
            "object_position": null,
            "order": null,
            "overflow": null,
            "overflow_x": null,
            "overflow_y": null,
            "padding": null,
            "right": null,
            "top": null,
            "visibility": null,
            "width": null
          }
        },
        "1abdd0b5df0d43699c05b5cacd2bab9e": {
          "model_module": "@jupyter-widgets/controls",
          "model_name": "DescriptionStyleModel",
          "model_module_version": "1.5.0",
          "state": {
            "_model_module": "@jupyter-widgets/controls",
            "_model_module_version": "1.5.0",
            "_model_name": "DescriptionStyleModel",
            "_view_count": null,
            "_view_module": "@jupyter-widgets/base",
            "_view_module_version": "1.2.0",
            "_view_name": "StyleView",
            "description_width": ""
          }
        },
        "c7f7cbd36a814fb5aa8148a1f391a6d8": {
          "model_module": "@jupyter-widgets/base",
          "model_name": "LayoutModel",
          "model_module_version": "1.2.0",
          "state": {
            "_model_module": "@jupyter-widgets/base",
            "_model_module_version": "1.2.0",
            "_model_name": "LayoutModel",
            "_view_count": null,
            "_view_module": "@jupyter-widgets/base",
            "_view_module_version": "1.2.0",
            "_view_name": "LayoutView",
            "align_content": null,
            "align_items": null,
            "align_self": null,
            "border": null,
            "bottom": null,
            "display": null,
            "flex": null,
            "flex_flow": null,
            "grid_area": null,
            "grid_auto_columns": null,
            "grid_auto_flow": null,
            "grid_auto_rows": null,
            "grid_column": null,
            "grid_gap": null,
            "grid_row": null,
            "grid_template_areas": null,
            "grid_template_columns": null,
            "grid_template_rows": null,
            "height": null,
            "justify_content": null,
            "justify_items": null,
            "left": null,
            "margin": null,
            "max_height": null,
            "max_width": null,
            "min_height": null,
            "min_width": null,
            "object_fit": null,
            "object_position": null,
            "order": null,
            "overflow": null,
            "overflow_x": null,
            "overflow_y": null,
            "padding": null,
            "right": null,
            "top": null,
            "visibility": null,
            "width": null
          }
        },
        "d7822903e4b24dbe80241c6d7f0892fc": {
          "model_module": "@jupyter-widgets/controls",
          "model_name": "ProgressStyleModel",
          "model_module_version": "1.5.0",
          "state": {
            "_model_module": "@jupyter-widgets/controls",
            "_model_module_version": "1.5.0",
            "_model_name": "ProgressStyleModel",
            "_view_count": null,
            "_view_module": "@jupyter-widgets/base",
            "_view_module_version": "1.2.0",
            "_view_name": "StyleView",
            "bar_color": null,
            "description_width": ""
          }
        },
        "98ca2ecd60c74b698a8558ca3da9b8ea": {
          "model_module": "@jupyter-widgets/base",
          "model_name": "LayoutModel",
          "model_module_version": "1.2.0",
          "state": {
            "_model_module": "@jupyter-widgets/base",
            "_model_module_version": "1.2.0",
            "_model_name": "LayoutModel",
            "_view_count": null,
            "_view_module": "@jupyter-widgets/base",
            "_view_module_version": "1.2.0",
            "_view_name": "LayoutView",
            "align_content": null,
            "align_items": null,
            "align_self": null,
            "border": null,
            "bottom": null,
            "display": null,
            "flex": null,
            "flex_flow": null,
            "grid_area": null,
            "grid_auto_columns": null,
            "grid_auto_flow": null,
            "grid_auto_rows": null,
            "grid_column": null,
            "grid_gap": null,
            "grid_row": null,
            "grid_template_areas": null,
            "grid_template_columns": null,
            "grid_template_rows": null,
            "height": null,
            "justify_content": null,
            "justify_items": null,
            "left": null,
            "margin": null,
            "max_height": null,
            "max_width": null,
            "min_height": null,
            "min_width": null,
            "object_fit": null,
            "object_position": null,
            "order": null,
            "overflow": null,
            "overflow_x": null,
            "overflow_y": null,
            "padding": null,
            "right": null,
            "top": null,
            "visibility": null,
            "width": null
          }
        },
        "ae2a769d3da74a318eacf8fde97d7947": {
          "model_module": "@jupyter-widgets/controls",
          "model_name": "DescriptionStyleModel",
          "model_module_version": "1.5.0",
          "state": {
            "_model_module": "@jupyter-widgets/controls",
            "_model_module_version": "1.5.0",
            "_model_name": "DescriptionStyleModel",
            "_view_count": null,
            "_view_module": "@jupyter-widgets/base",
            "_view_module_version": "1.2.0",
            "_view_name": "StyleView",
            "description_width": ""
          }
        },
        "7f47f8a47777499eb301ea852e396031": {
          "model_module": "@jupyter-widgets/controls",
          "model_name": "HBoxModel",
          "model_module_version": "1.5.0",
          "state": {
            "_dom_classes": [],
            "_model_module": "@jupyter-widgets/controls",
            "_model_module_version": "1.5.0",
            "_model_name": "HBoxModel",
            "_view_count": null,
            "_view_module": "@jupyter-widgets/controls",
            "_view_module_version": "1.5.0",
            "_view_name": "HBoxView",
            "box_style": "",
            "children": [
              "IPY_MODEL_211a4afc9ec14f95b1ad8e25c9800895",
              "IPY_MODEL_670429b7351049988c18ca655cca03fa",
              "IPY_MODEL_d3529daf9f91439eba4281a89198492c"
            ],
            "layout": "IPY_MODEL_84d16926455f491eb5af7c9df4f76bda"
          }
        },
        "211a4afc9ec14f95b1ad8e25c9800895": {
          "model_module": "@jupyter-widgets/controls",
          "model_name": "HTMLModel",
          "model_module_version": "1.5.0",
          "state": {
            "_dom_classes": [],
            "_model_module": "@jupyter-widgets/controls",
            "_model_module_version": "1.5.0",
            "_model_name": "HTMLModel",
            "_view_count": null,
            "_view_module": "@jupyter-widgets/controls",
            "_view_module_version": "1.5.0",
            "_view_name": "HTMLView",
            "description": "",
            "description_tooltip": null,
            "layout": "IPY_MODEL_1fc903bc297e478f9a4277e5f64939f3",
            "placeholder": "​",
            "style": "IPY_MODEL_77a0d425281442aea772847da8a24c37",
            "value": "Downloading spiece.model: 100%"
          }
        },
        "670429b7351049988c18ca655cca03fa": {
          "model_module": "@jupyter-widgets/controls",
          "model_name": "FloatProgressModel",
          "model_module_version": "1.5.0",
          "state": {
            "_dom_classes": [],
            "_model_module": "@jupyter-widgets/controls",
            "_model_module_version": "1.5.0",
            "_model_name": "FloatProgressModel",
            "_view_count": null,
            "_view_module": "@jupyter-widgets/controls",
            "_view_module_version": "1.5.0",
            "_view_name": "ProgressView",
            "bar_style": "success",
            "description": "",
            "description_tooltip": null,
            "layout": "IPY_MODEL_c856cb63dbc548fb990cef9615edcfd3",
            "max": 791656,
            "min": 0,
            "orientation": "horizontal",
            "style": "IPY_MODEL_9bfd5d4312734159849bbb98feced68c",
            "value": 791656
          }
        },
        "d3529daf9f91439eba4281a89198492c": {
          "model_module": "@jupyter-widgets/controls",
          "model_name": "HTMLModel",
          "model_module_version": "1.5.0",
          "state": {
            "_dom_classes": [],
            "_model_module": "@jupyter-widgets/controls",
            "_model_module_version": "1.5.0",
            "_model_name": "HTMLModel",
            "_view_count": null,
            "_view_module": "@jupyter-widgets/controls",
            "_view_module_version": "1.5.0",
            "_view_name": "HTMLView",
            "description": "",
            "description_tooltip": null,
            "layout": "IPY_MODEL_472632e608e4483295e4b2161f570f35",
            "placeholder": "​",
            "style": "IPY_MODEL_59d161987738491eafad4ec2acd59766",
            "value": " 773k/773k [00:00&lt;00:00, 2.51MB/s]"
          }
        },
        "84d16926455f491eb5af7c9df4f76bda": {
          "model_module": "@jupyter-widgets/base",
          "model_name": "LayoutModel",
          "model_module_version": "1.2.0",
          "state": {
            "_model_module": "@jupyter-widgets/base",
            "_model_module_version": "1.2.0",
            "_model_name": "LayoutModel",
            "_view_count": null,
            "_view_module": "@jupyter-widgets/base",
            "_view_module_version": "1.2.0",
            "_view_name": "LayoutView",
            "align_content": null,
            "align_items": null,
            "align_self": null,
            "border": null,
            "bottom": null,
            "display": null,
            "flex": null,
            "flex_flow": null,
            "grid_area": null,
            "grid_auto_columns": null,
            "grid_auto_flow": null,
            "grid_auto_rows": null,
            "grid_column": null,
            "grid_gap": null,
            "grid_row": null,
            "grid_template_areas": null,
            "grid_template_columns": null,
            "grid_template_rows": null,
            "height": null,
            "justify_content": null,
            "justify_items": null,
            "left": null,
            "margin": null,
            "max_height": null,
            "max_width": null,
            "min_height": null,
            "min_width": null,
            "object_fit": null,
            "object_position": null,
            "order": null,
            "overflow": null,
            "overflow_x": null,
            "overflow_y": null,
            "padding": null,
            "right": null,
            "top": null,
            "visibility": null,
            "width": null
          }
        },
        "1fc903bc297e478f9a4277e5f64939f3": {
          "model_module": "@jupyter-widgets/base",
          "model_name": "LayoutModel",
          "model_module_version": "1.2.0",
          "state": {
            "_model_module": "@jupyter-widgets/base",
            "_model_module_version": "1.2.0",
            "_model_name": "LayoutModel",
            "_view_count": null,
            "_view_module": "@jupyter-widgets/base",
            "_view_module_version": "1.2.0",
            "_view_name": "LayoutView",
            "align_content": null,
            "align_items": null,
            "align_self": null,
            "border": null,
            "bottom": null,
            "display": null,
            "flex": null,
            "flex_flow": null,
            "grid_area": null,
            "grid_auto_columns": null,
            "grid_auto_flow": null,
            "grid_auto_rows": null,
            "grid_column": null,
            "grid_gap": null,
            "grid_row": null,
            "grid_template_areas": null,
            "grid_template_columns": null,
            "grid_template_rows": null,
            "height": null,
            "justify_content": null,
            "justify_items": null,
            "left": null,
            "margin": null,
            "max_height": null,
            "max_width": null,
            "min_height": null,
            "min_width": null,
            "object_fit": null,
            "object_position": null,
            "order": null,
            "overflow": null,
            "overflow_x": null,
            "overflow_y": null,
            "padding": null,
            "right": null,
            "top": null,
            "visibility": null,
            "width": null
          }
        },
        "77a0d425281442aea772847da8a24c37": {
          "model_module": "@jupyter-widgets/controls",
          "model_name": "DescriptionStyleModel",
          "model_module_version": "1.5.0",
          "state": {
            "_model_module": "@jupyter-widgets/controls",
            "_model_module_version": "1.5.0",
            "_model_name": "DescriptionStyleModel",
            "_view_count": null,
            "_view_module": "@jupyter-widgets/base",
            "_view_module_version": "1.2.0",
            "_view_name": "StyleView",
            "description_width": ""
          }
        },
        "c856cb63dbc548fb990cef9615edcfd3": {
          "model_module": "@jupyter-widgets/base",
          "model_name": "LayoutModel",
          "model_module_version": "1.2.0",
          "state": {
            "_model_module": "@jupyter-widgets/base",
            "_model_module_version": "1.2.0",
            "_model_name": "LayoutModel",
            "_view_count": null,
            "_view_module": "@jupyter-widgets/base",
            "_view_module_version": "1.2.0",
            "_view_name": "LayoutView",
            "align_content": null,
            "align_items": null,
            "align_self": null,
            "border": null,
            "bottom": null,
            "display": null,
            "flex": null,
            "flex_flow": null,
            "grid_area": null,
            "grid_auto_columns": null,
            "grid_auto_flow": null,
            "grid_auto_rows": null,
            "grid_column": null,
            "grid_gap": null,
            "grid_row": null,
            "grid_template_areas": null,
            "grid_template_columns": null,
            "grid_template_rows": null,
            "height": null,
            "justify_content": null,
            "justify_items": null,
            "left": null,
            "margin": null,
            "max_height": null,
            "max_width": null,
            "min_height": null,
            "min_width": null,
            "object_fit": null,
            "object_position": null,
            "order": null,
            "overflow": null,
            "overflow_x": null,
            "overflow_y": null,
            "padding": null,
            "right": null,
            "top": null,
            "visibility": null,
            "width": null
          }
        },
        "9bfd5d4312734159849bbb98feced68c": {
          "model_module": "@jupyter-widgets/controls",
          "model_name": "ProgressStyleModel",
          "model_module_version": "1.5.0",
          "state": {
            "_model_module": "@jupyter-widgets/controls",
            "_model_module_version": "1.5.0",
            "_model_name": "ProgressStyleModel",
            "_view_count": null,
            "_view_module": "@jupyter-widgets/base",
            "_view_module_version": "1.2.0",
            "_view_name": "StyleView",
            "bar_color": null,
            "description_width": ""
          }
        },
        "472632e608e4483295e4b2161f570f35": {
          "model_module": "@jupyter-widgets/base",
          "model_name": "LayoutModel",
          "model_module_version": "1.2.0",
          "state": {
            "_model_module": "@jupyter-widgets/base",
            "_model_module_version": "1.2.0",
            "_model_name": "LayoutModel",
            "_view_count": null,
            "_view_module": "@jupyter-widgets/base",
            "_view_module_version": "1.2.0",
            "_view_name": "LayoutView",
            "align_content": null,
            "align_items": null,
            "align_self": null,
            "border": null,
            "bottom": null,
            "display": null,
            "flex": null,
            "flex_flow": null,
            "grid_area": null,
            "grid_auto_columns": null,
            "grid_auto_flow": null,
            "grid_auto_rows": null,
            "grid_column": null,
            "grid_gap": null,
            "grid_row": null,
            "grid_template_areas": null,
            "grid_template_columns": null,
            "grid_template_rows": null,
            "height": null,
            "justify_content": null,
            "justify_items": null,
            "left": null,
            "margin": null,
            "max_height": null,
            "max_width": null,
            "min_height": null,
            "min_width": null,
            "object_fit": null,
            "object_position": null,
            "order": null,
            "overflow": null,
            "overflow_x": null,
            "overflow_y": null,
            "padding": null,
            "right": null,
            "top": null,
            "visibility": null,
            "width": null
          }
        },
        "59d161987738491eafad4ec2acd59766": {
          "model_module": "@jupyter-widgets/controls",
          "model_name": "DescriptionStyleModel",
          "model_module_version": "1.5.0",
          "state": {
            "_model_module": "@jupyter-widgets/controls",
            "_model_module_version": "1.5.0",
            "_model_name": "DescriptionStyleModel",
            "_view_count": null,
            "_view_module": "@jupyter-widgets/base",
            "_view_module_version": "1.2.0",
            "_view_name": "StyleView",
            "description_width": ""
          }
        },
        "815add47559b44a091e63cb0832c8335": {
          "model_module": "@jupyter-widgets/controls",
          "model_name": "HBoxModel",
          "model_module_version": "1.5.0",
          "state": {
            "_dom_classes": [],
            "_model_module": "@jupyter-widgets/controls",
            "_model_module_version": "1.5.0",
            "_model_name": "HBoxModel",
            "_view_count": null,
            "_view_module": "@jupyter-widgets/controls",
            "_view_module_version": "1.5.0",
            "_view_name": "HBoxView",
            "box_style": "",
            "children": [
              "IPY_MODEL_a3fdb452c9554c97a148f2e9369ec9f9",
              "IPY_MODEL_3a6f9231203f4dfd91270370a2939e09",
              "IPY_MODEL_a018d88dfa9b483baefe6f63a1586e62"
            ],
            "layout": "IPY_MODEL_8b5ff9218f03494ab2eedb1ddea34b19"
          }
        },
        "a3fdb452c9554c97a148f2e9369ec9f9": {
          "model_module": "@jupyter-widgets/controls",
          "model_name": "HTMLModel",
          "model_module_version": "1.5.0",
          "state": {
            "_dom_classes": [],
            "_model_module": "@jupyter-widgets/controls",
            "_model_module_version": "1.5.0",
            "_model_name": "HTMLModel",
            "_view_count": null,
            "_view_module": "@jupyter-widgets/controls",
            "_view_module_version": "1.5.0",
            "_view_name": "HTMLView",
            "description": "",
            "description_tooltip": null,
            "layout": "IPY_MODEL_0e2f218a5d5340bcb56017961d598162",
            "placeholder": "​",
            "style": "IPY_MODEL_0b5e2685943f49ffbfa722534ab0d00e",
            "value": "Downloading tokenizer.json: 100%"
          }
        },
        "3a6f9231203f4dfd91270370a2939e09": {
          "model_module": "@jupyter-widgets/controls",
          "model_name": "FloatProgressModel",
          "model_module_version": "1.5.0",
          "state": {
            "_dom_classes": [],
            "_model_module": "@jupyter-widgets/controls",
            "_model_module_version": "1.5.0",
            "_model_name": "FloatProgressModel",
            "_view_count": null,
            "_view_module": "@jupyter-widgets/controls",
            "_view_module_version": "1.5.0",
            "_view_name": "ProgressView",
            "bar_style": "success",
            "description": "",
            "description_tooltip": null,
            "layout": "IPY_MODEL_dd0d084dab5a4271a5bd638772755a76",
            "max": 1389353,
            "min": 0,
            "orientation": "horizontal",
            "style": "IPY_MODEL_d9b5279e618d4fc799323212e7e15d31",
            "value": 1389353
          }
        },
        "a018d88dfa9b483baefe6f63a1586e62": {
          "model_module": "@jupyter-widgets/controls",
          "model_name": "HTMLModel",
          "model_module_version": "1.5.0",
          "state": {
            "_dom_classes": [],
            "_model_module": "@jupyter-widgets/controls",
            "_model_module_version": "1.5.0",
            "_model_name": "HTMLModel",
            "_view_count": null,
            "_view_module": "@jupyter-widgets/controls",
            "_view_module_version": "1.5.0",
            "_view_name": "HTMLView",
            "description": "",
            "description_tooltip": null,
            "layout": "IPY_MODEL_5d81ae53037e4daa8246593242accfea",
            "placeholder": "​",
            "style": "IPY_MODEL_4a611fa942be4f6c82112677954c80d8",
            "value": " 1.32M/1.32M [00:00&lt;00:00, 3.06MB/s]"
          }
        },
        "8b5ff9218f03494ab2eedb1ddea34b19": {
          "model_module": "@jupyter-widgets/base",
          "model_name": "LayoutModel",
          "model_module_version": "1.2.0",
          "state": {
            "_model_module": "@jupyter-widgets/base",
            "_model_module_version": "1.2.0",
            "_model_name": "LayoutModel",
            "_view_count": null,
            "_view_module": "@jupyter-widgets/base",
            "_view_module_version": "1.2.0",
            "_view_name": "LayoutView",
            "align_content": null,
            "align_items": null,
            "align_self": null,
            "border": null,
            "bottom": null,
            "display": null,
            "flex": null,
            "flex_flow": null,
            "grid_area": null,
            "grid_auto_columns": null,
            "grid_auto_flow": null,
            "grid_auto_rows": null,
            "grid_column": null,
            "grid_gap": null,
            "grid_row": null,
            "grid_template_areas": null,
            "grid_template_columns": null,
            "grid_template_rows": null,
            "height": null,
            "justify_content": null,
            "justify_items": null,
            "left": null,
            "margin": null,
            "max_height": null,
            "max_width": null,
            "min_height": null,
            "min_width": null,
            "object_fit": null,
            "object_position": null,
            "order": null,
            "overflow": null,
            "overflow_x": null,
            "overflow_y": null,
            "padding": null,
            "right": null,
            "top": null,
            "visibility": null,
            "width": null
          }
        },
        "0e2f218a5d5340bcb56017961d598162": {
          "model_module": "@jupyter-widgets/base",
          "model_name": "LayoutModel",
          "model_module_version": "1.2.0",
          "state": {
            "_model_module": "@jupyter-widgets/base",
            "_model_module_version": "1.2.0",
            "_model_name": "LayoutModel",
            "_view_count": null,
            "_view_module": "@jupyter-widgets/base",
            "_view_module_version": "1.2.0",
            "_view_name": "LayoutView",
            "align_content": null,
            "align_items": null,
            "align_self": null,
            "border": null,
            "bottom": null,
            "display": null,
            "flex": null,
            "flex_flow": null,
            "grid_area": null,
            "grid_auto_columns": null,
            "grid_auto_flow": null,
            "grid_auto_rows": null,
            "grid_column": null,
            "grid_gap": null,
            "grid_row": null,
            "grid_template_areas": null,
            "grid_template_columns": null,
            "grid_template_rows": null,
            "height": null,
            "justify_content": null,
            "justify_items": null,
            "left": null,
            "margin": null,
            "max_height": null,
            "max_width": null,
            "min_height": null,
            "min_width": null,
            "object_fit": null,
            "object_position": null,
            "order": null,
            "overflow": null,
            "overflow_x": null,
            "overflow_y": null,
            "padding": null,
            "right": null,
            "top": null,
            "visibility": null,
            "width": null
          }
        },
        "0b5e2685943f49ffbfa722534ab0d00e": {
          "model_module": "@jupyter-widgets/controls",
          "model_name": "DescriptionStyleModel",
          "model_module_version": "1.5.0",
          "state": {
            "_model_module": "@jupyter-widgets/controls",
            "_model_module_version": "1.5.0",
            "_model_name": "DescriptionStyleModel",
            "_view_count": null,
            "_view_module": "@jupyter-widgets/base",
            "_view_module_version": "1.2.0",
            "_view_name": "StyleView",
            "description_width": ""
          }
        },
        "dd0d084dab5a4271a5bd638772755a76": {
          "model_module": "@jupyter-widgets/base",
          "model_name": "LayoutModel",
          "model_module_version": "1.2.0",
          "state": {
            "_model_module": "@jupyter-widgets/base",
            "_model_module_version": "1.2.0",
            "_model_name": "LayoutModel",
            "_view_count": null,
            "_view_module": "@jupyter-widgets/base",
            "_view_module_version": "1.2.0",
            "_view_name": "LayoutView",
            "align_content": null,
            "align_items": null,
            "align_self": null,
            "border": null,
            "bottom": null,
            "display": null,
            "flex": null,
            "flex_flow": null,
            "grid_area": null,
            "grid_auto_columns": null,
            "grid_auto_flow": null,
            "grid_auto_rows": null,
            "grid_column": null,
            "grid_gap": null,
            "grid_row": null,
            "grid_template_areas": null,
            "grid_template_columns": null,
            "grid_template_rows": null,
            "height": null,
            "justify_content": null,
            "justify_items": null,
            "left": null,
            "margin": null,
            "max_height": null,
            "max_width": null,
            "min_height": null,
            "min_width": null,
            "object_fit": null,
            "object_position": null,
            "order": null,
            "overflow": null,
            "overflow_x": null,
            "overflow_y": null,
            "padding": null,
            "right": null,
            "top": null,
            "visibility": null,
            "width": null
          }
        },
        "d9b5279e618d4fc799323212e7e15d31": {
          "model_module": "@jupyter-widgets/controls",
          "model_name": "ProgressStyleModel",
          "model_module_version": "1.5.0",
          "state": {
            "_model_module": "@jupyter-widgets/controls",
            "_model_module_version": "1.5.0",
            "_model_name": "ProgressStyleModel",
            "_view_count": null,
            "_view_module": "@jupyter-widgets/base",
            "_view_module_version": "1.2.0",
            "_view_name": "StyleView",
            "bar_color": null,
            "description_width": ""
          }
        },
        "5d81ae53037e4daa8246593242accfea": {
          "model_module": "@jupyter-widgets/base",
          "model_name": "LayoutModel",
          "model_module_version": "1.2.0",
          "state": {
            "_model_module": "@jupyter-widgets/base",
            "_model_module_version": "1.2.0",
            "_model_name": "LayoutModel",
            "_view_count": null,
            "_view_module": "@jupyter-widgets/base",
            "_view_module_version": "1.2.0",
            "_view_name": "LayoutView",
            "align_content": null,
            "align_items": null,
            "align_self": null,
            "border": null,
            "bottom": null,
            "display": null,
            "flex": null,
            "flex_flow": null,
            "grid_area": null,
            "grid_auto_columns": null,
            "grid_auto_flow": null,
            "grid_auto_rows": null,
            "grid_column": null,
            "grid_gap": null,
            "grid_row": null,
            "grid_template_areas": null,
            "grid_template_columns": null,
            "grid_template_rows": null,
            "height": null,
            "justify_content": null,
            "justify_items": null,
            "left": null,
            "margin": null,
            "max_height": null,
            "max_width": null,
            "min_height": null,
            "min_width": null,
            "object_fit": null,
            "object_position": null,
            "order": null,
            "overflow": null,
            "overflow_x": null,
            "overflow_y": null,
            "padding": null,
            "right": null,
            "top": null,
            "visibility": null,
            "width": null
          }
        },
        "4a611fa942be4f6c82112677954c80d8": {
          "model_module": "@jupyter-widgets/controls",
          "model_name": "DescriptionStyleModel",
          "model_module_version": "1.5.0",
          "state": {
            "_model_module": "@jupyter-widgets/controls",
            "_model_module_version": "1.5.0",
            "_model_name": "DescriptionStyleModel",
            "_view_count": null,
            "_view_module": "@jupyter-widgets/base",
            "_view_module_version": "1.2.0",
            "_view_name": "StyleView",
            "description_width": ""
          }
        },
        "d716833592004e3a8b29e9f83dfbb586": {
          "model_module": "@jupyter-widgets/controls",
          "model_name": "HBoxModel",
          "model_module_version": "1.5.0",
          "state": {
            "_dom_classes": [],
            "_model_module": "@jupyter-widgets/controls",
            "_model_module_version": "1.5.0",
            "_model_name": "HBoxModel",
            "_view_count": null,
            "_view_module": "@jupyter-widgets/controls",
            "_view_module_version": "1.5.0",
            "_view_name": "HBoxView",
            "box_style": "",
            "children": [
              "IPY_MODEL_e53acb2f753e444f9dc97080513dec61",
              "IPY_MODEL_3d7d1462c9ec45b6bd9fbf550879bdbb",
              "IPY_MODEL_e4fead1d232c4555bd2d2f4b593a0671"
            ],
            "layout": "IPY_MODEL_326de842a9c14d72a82f91cfb66c9609"
          }
        },
        "e53acb2f753e444f9dc97080513dec61": {
          "model_module": "@jupyter-widgets/controls",
          "model_name": "HTMLModel",
          "model_module_version": "1.5.0",
          "state": {
            "_dom_classes": [],
            "_model_module": "@jupyter-widgets/controls",
            "_model_module_version": "1.5.0",
            "_model_name": "HTMLModel",
            "_view_count": null,
            "_view_module": "@jupyter-widgets/controls",
            "_view_module_version": "1.5.0",
            "_view_name": "HTMLView",
            "description": "",
            "description_tooltip": null,
            "layout": "IPY_MODEL_2100204417d94659a078adb25e3d1129",
            "placeholder": "​",
            "style": "IPY_MODEL_28fe8ff6b67f40d8bbda983840b4010f",
            "value": "Downloading pytorch_model.bin: 100%"
          }
        },
        "3d7d1462c9ec45b6bd9fbf550879bdbb": {
          "model_module": "@jupyter-widgets/controls",
          "model_name": "FloatProgressModel",
          "model_module_version": "1.5.0",
          "state": {
            "_dom_classes": [],
            "_model_module": "@jupyter-widgets/controls",
            "_model_module_version": "1.5.0",
            "_model_name": "FloatProgressModel",
            "_view_count": null,
            "_view_module": "@jupyter-widgets/controls",
            "_view_module_version": "1.5.0",
            "_view_name": "ProgressView",
            "bar_style": "success",
            "description": "",
            "description_tooltip": null,
            "layout": "IPY_MODEL_5c57553072884f359f75f2e581850a53",
            "max": 891691430,
            "min": 0,
            "orientation": "horizontal",
            "style": "IPY_MODEL_43076009f62843d6bd3c940a2989762f",
            "value": 891691430
          }
        },
        "e4fead1d232c4555bd2d2f4b593a0671": {
          "model_module": "@jupyter-widgets/controls",
          "model_name": "HTMLModel",
          "model_module_version": "1.5.0",
          "state": {
            "_dom_classes": [],
            "_model_module": "@jupyter-widgets/controls",
            "_model_module_version": "1.5.0",
            "_model_name": "HTMLModel",
            "_view_count": null,
            "_view_module": "@jupyter-widgets/controls",
            "_view_module_version": "1.5.0",
            "_view_name": "HTMLView",
            "description": "",
            "description_tooltip": null,
            "layout": "IPY_MODEL_1d64e57033d04919857a4760c0cbd61b",
            "placeholder": "​",
            "style": "IPY_MODEL_5a4a68d894014142a60f204fbd225469",
            "value": " 850M/850M [00:24&lt;00:00, 46.4MB/s]"
          }
        },
        "326de842a9c14d72a82f91cfb66c9609": {
          "model_module": "@jupyter-widgets/base",
          "model_name": "LayoutModel",
          "model_module_version": "1.2.0",
          "state": {
            "_model_module": "@jupyter-widgets/base",
            "_model_module_version": "1.2.0",
            "_model_name": "LayoutModel",
            "_view_count": null,
            "_view_module": "@jupyter-widgets/base",
            "_view_module_version": "1.2.0",
            "_view_name": "LayoutView",
            "align_content": null,
            "align_items": null,
            "align_self": null,
            "border": null,
            "bottom": null,
            "display": null,
            "flex": null,
            "flex_flow": null,
            "grid_area": null,
            "grid_auto_columns": null,
            "grid_auto_flow": null,
            "grid_auto_rows": null,
            "grid_column": null,
            "grid_gap": null,
            "grid_row": null,
            "grid_template_areas": null,
            "grid_template_columns": null,
            "grid_template_rows": null,
            "height": null,
            "justify_content": null,
            "justify_items": null,
            "left": null,
            "margin": null,
            "max_height": null,
            "max_width": null,
            "min_height": null,
            "min_width": null,
            "object_fit": null,
            "object_position": null,
            "order": null,
            "overflow": null,
            "overflow_x": null,
            "overflow_y": null,
            "padding": null,
            "right": null,
            "top": null,
            "visibility": null,
            "width": null
          }
        },
        "2100204417d94659a078adb25e3d1129": {
          "model_module": "@jupyter-widgets/base",
          "model_name": "LayoutModel",
          "model_module_version": "1.2.0",
          "state": {
            "_model_module": "@jupyter-widgets/base",
            "_model_module_version": "1.2.0",
            "_model_name": "LayoutModel",
            "_view_count": null,
            "_view_module": "@jupyter-widgets/base",
            "_view_module_version": "1.2.0",
            "_view_name": "LayoutView",
            "align_content": null,
            "align_items": null,
            "align_self": null,
            "border": null,
            "bottom": null,
            "display": null,
            "flex": null,
            "flex_flow": null,
            "grid_area": null,
            "grid_auto_columns": null,
            "grid_auto_flow": null,
            "grid_auto_rows": null,
            "grid_column": null,
            "grid_gap": null,
            "grid_row": null,
            "grid_template_areas": null,
            "grid_template_columns": null,
            "grid_template_rows": null,
            "height": null,
            "justify_content": null,
            "justify_items": null,
            "left": null,
            "margin": null,
            "max_height": null,
            "max_width": null,
            "min_height": null,
            "min_width": null,
            "object_fit": null,
            "object_position": null,
            "order": null,
            "overflow": null,
            "overflow_x": null,
            "overflow_y": null,
            "padding": null,
            "right": null,
            "top": null,
            "visibility": null,
            "width": null
          }
        },
        "28fe8ff6b67f40d8bbda983840b4010f": {
          "model_module": "@jupyter-widgets/controls",
          "model_name": "DescriptionStyleModel",
          "model_module_version": "1.5.0",
          "state": {
            "_model_module": "@jupyter-widgets/controls",
            "_model_module_version": "1.5.0",
            "_model_name": "DescriptionStyleModel",
            "_view_count": null,
            "_view_module": "@jupyter-widgets/base",
            "_view_module_version": "1.2.0",
            "_view_name": "StyleView",
            "description_width": ""
          }
        },
        "5c57553072884f359f75f2e581850a53": {
          "model_module": "@jupyter-widgets/base",
          "model_name": "LayoutModel",
          "model_module_version": "1.2.0",
          "state": {
            "_model_module": "@jupyter-widgets/base",
            "_model_module_version": "1.2.0",
            "_model_name": "LayoutModel",
            "_view_count": null,
            "_view_module": "@jupyter-widgets/base",
            "_view_module_version": "1.2.0",
            "_view_name": "LayoutView",
            "align_content": null,
            "align_items": null,
            "align_self": null,
            "border": null,
            "bottom": null,
            "display": null,
            "flex": null,
            "flex_flow": null,
            "grid_area": null,
            "grid_auto_columns": null,
            "grid_auto_flow": null,
            "grid_auto_rows": null,
            "grid_column": null,
            "grid_gap": null,
            "grid_row": null,
            "grid_template_areas": null,
            "grid_template_columns": null,
            "grid_template_rows": null,
            "height": null,
            "justify_content": null,
            "justify_items": null,
            "left": null,
            "margin": null,
            "max_height": null,
            "max_width": null,
            "min_height": null,
            "min_width": null,
            "object_fit": null,
            "object_position": null,
            "order": null,
            "overflow": null,
            "overflow_x": null,
            "overflow_y": null,
            "padding": null,
            "right": null,
            "top": null,
            "visibility": null,
            "width": null
          }
        },
        "43076009f62843d6bd3c940a2989762f": {
          "model_module": "@jupyter-widgets/controls",
          "model_name": "ProgressStyleModel",
          "model_module_version": "1.5.0",
          "state": {
            "_model_module": "@jupyter-widgets/controls",
            "_model_module_version": "1.5.0",
            "_model_name": "ProgressStyleModel",
            "_view_count": null,
            "_view_module": "@jupyter-widgets/base",
            "_view_module_version": "1.2.0",
            "_view_name": "StyleView",
            "bar_color": null,
            "description_width": ""
          }
        },
        "1d64e57033d04919857a4760c0cbd61b": {
          "model_module": "@jupyter-widgets/base",
          "model_name": "LayoutModel",
          "model_module_version": "1.2.0",
          "state": {
            "_model_module": "@jupyter-widgets/base",
            "_model_module_version": "1.2.0",
            "_model_name": "LayoutModel",
            "_view_count": null,
            "_view_module": "@jupyter-widgets/base",
            "_view_module_version": "1.2.0",
            "_view_name": "LayoutView",
            "align_content": null,
            "align_items": null,
            "align_self": null,
            "border": null,
            "bottom": null,
            "display": null,
            "flex": null,
            "flex_flow": null,
            "grid_area": null,
            "grid_auto_columns": null,
            "grid_auto_flow": null,
            "grid_auto_rows": null,
            "grid_column": null,
            "grid_gap": null,
            "grid_row": null,
            "grid_template_areas": null,
            "grid_template_columns": null,
            "grid_template_rows": null,
            "height": null,
            "justify_content": null,
            "justify_items": null,
            "left": null,
            "margin": null,
            "max_height": null,
            "max_width": null,
            "min_height": null,
            "min_width": null,
            "object_fit": null,
            "object_position": null,
            "order": null,
            "overflow": null,
            "overflow_x": null,
            "overflow_y": null,
            "padding": null,
            "right": null,
            "top": null,
            "visibility": null,
            "width": null
          }
        },
        "5a4a68d894014142a60f204fbd225469": {
          "model_module": "@jupyter-widgets/controls",
          "model_name": "DescriptionStyleModel",
          "model_module_version": "1.5.0",
          "state": {
            "_model_module": "@jupyter-widgets/controls",
            "_model_module_version": "1.5.0",
            "_model_name": "DescriptionStyleModel",
            "_view_count": null,
            "_view_module": "@jupyter-widgets/base",
            "_view_module_version": "1.2.0",
            "_view_name": "StyleView",
            "description_width": ""
          }
        }
      }
    }
  },
  "cells": [
    {
      "cell_type": "markdown",
      "metadata": {
        "id": "view-in-github",
        "colab_type": "text"
      },
      "source": [
        "<a href=\"https://colab.research.google.com/github/SM-30/IPV/blob/main/T5_applied_to_table.ipynb\" target=\"_parent\"><img src=\"https://colab.research.google.com/assets/colab-badge.svg\" alt=\"Open In Colab\"/></a>"
      ]
    },
    {
      "cell_type": "code",
      "execution_count": null,
      "metadata": {
        "id": "_mRmeL2sc37N"
      },
      "outputs": [],
      "source": [
        "import pandas as pd\n",
        "import csv"
      ]
    },
    {
      "cell_type": "code",
      "source": [
        "dataset = pd.read_csv('app-flags-may2018 .csv')\n",
        " "
      ],
      "metadata": {
        "id": "IHHaiNOfdp10"
      },
      "execution_count": null,
      "outputs": []
    },
    {
      "cell_type": "code",
      "source": [
        "X = dataset.iloc[:, 4].values\n",
        "print(X)"
      ],
      "metadata": {
        "colab": {
          "base_uri": "https://localhost:8080/"
        },
        "id": "ItrkRtwhkxPl",
        "outputId": "ceae678d-ee36-4348-dc0c-4c84a738c6c9"
      },
      "execution_count": null,
      "outputs": [
        {
          "output_type": "stream",
          "name": "stdout",
          "text": [
            "['Automatic Call Recorder Pro: HD 2017 is a must have utility the versatile and dead simple to use! Being swiftly able to open Call Recorder and record your conversation with one person or a group of people is very valuable.  phone recording app. phone recording during calling. auto call recording for android phone. phone recording. call recorder pro 2017. call recorder pro latest version. all call recorder automatic app is supported in all android phone. Record phone call automatic conversation recorder. record phone calls while on phone. recording apps. call recording apps download. hide call recording apps. phone recorder. phone recorder both sides of the conversation. phone call recorder app. phone call recorder automatic. free call recorder for android phone. automatic call recorder record my call. automatic call recorder hide apps. automatic call recorder for me record app. automatic call recorder 2017 latest. automatic call recorder professional. automatic recorder. call automatic recorder. recorder voice recorder. record call. record call automatically. automatically call record. all voice call recorder automatically. auto record call. auto call record 2017 pro. auto call recorder. auto call recorder 2017 full version. auto call recorder unlimited auto save. auto call recorder 2017 professional. call auto recorder. conversation recorder. phone recording app. phone recording during calling. auto call recording for android phone. phone recording. call recorder pro 2017. call recorder pro latest version. automatic recording call. automatic call. record phone calls while on phone. mobile call recorder. internet call recorder for all mobile. call recorder android. call recorder android phone.voice call recorder. voice call recorder automatic. call voice recorder automatic. voice call recorder during call for android. auto voice call recorder. auto call recorder. auto call recorder unlimited auto save. hidden call recorder without icon. hidden call recorder without icon another phone. hidden call recorder app. hidden call recorder app without icon. hidden auto call recorder app without icon. hidden call recorder automatic. record phone call automatic conversation recorder. automatic hidden call recorder. all call recorder app. all call recorder unlimited. all call recorder 2017 latest. auto all call recorder 2017. all call recorder automatic app is supported in all android phone. all call recorder automatic hidden. auto all call recorder and save. free call recorder for all calls. automatic recording. automatic recording call. automatic call. record phone calls while on phone. mobile call recorder. internet call recorder for all mobile. call recorder android. call recorder android phone. video call recorder for android. best call recorder for android.best auto call recorder for android. best call recorder app for android. android call recorder. android call recorder full app free. recording apps. record my call app. record my call app pro. call my record. my call recorder. call my recorder. conversation recorder. call recorder hide app. call recorder hide app 2017. call recorder hide app with password. conference call apps. free conference call app for android. conference call application free for 3 person. phone recorder. free voice recorder. voice recorder during call. voice call recorder during call for android. voice recorder app. voice call recorder. voice call recorder automatic. call recorder free. auto recording. auto recording on every calling. auto recording all calls. call auto recording. auto call recorder. automatic call recorder for me app. auto recording. mobile call recorder. record phone call automatic conversation recorder.'\n",
            " 'Record phone call automatic conversation recorder. record phone calls while on phone. recording apps. call recording apps download. hide call recording apps. phone recorder. phone recorder both sides of the conversation. phone call recorder app. phone call recorder automatic. free call recorder for android phone. automatic call recorder record my call. automatic call recorder hide apps. automatic call recorder for me record app. automatic call recorder 2017 latest. automatic call recorder professional. automatic recorder. call automatic recorder. Voice Recorder During Call.Call Recorder 2017 New. Auto Call Recorder Best Voice Phone Call Recording. Voice recorder during call when needed. Call recorder 2017 for Samsung. Auto call recording software free download. Record phone calls while on phone. Sound recorder call recorder. Audio recorder call. How to record a phone call conversation. Auto call recording application download. Automatic call recorder acr. Phone recorder incoming and outgoing. Automatic voice recorder during call without beep sound. Call recorder hide app with password. Voice recorder and call recorder. Voice recorder android. Free app to record phone calls. Mobile call voice recorder. Record phone calls from both sides. Voice recording microphone. Record all my phone calls secretly. Phone call audio recorder. Other call trace recording app download. Call recorder automatic two sided for android mobile. Voice recorder app free download. Whatsapp voice call recorder app. Tape recorders free app for android. Digital voice recorder. Auto call recorder 2017 full version. Cell phone conversation recorder. Call log recorder. Bold. Call recorder in and out. Call recorder one touch. Recorder voice recorder. record call. record call automatically. automatically call record. all voice call recorder automatically. auto record call. auto call record 2017 pro. auto call recorder. auto call recorder 2017 full version. auto call recorder unlimited auto save. auto call recorder 2017 professional. call auto recorder. conversation recorder. phone recording app. phone recording during calling. auto call recording for android phone. phone recording. call recorder pro 2017. call recorder pro latest version.Voice call recorder. voice call recorder automatic. call voice recorder automatic. voice call recorder during call for android. auto voice call recorder. auto call recorder. auto call recorder unlimited auto save. hidden call recorder without icon. hidden call recorder without icon another phone. hidden call recorder app. hidden call recorder app without icon. hidden auto call recorder app without icon. hidden call recorder automatic. automatic hidden call recorder. all call recorder app. all call recorder unlimited. all call recorder 2017 latest. auto all call recorder 2017. all call recorder automatic app is supported in all android phone. all call recorder automatic hidden. auto all call recorder and save. free call recorder for all calls. automatic recording. automatic recording call. automatic call. record phone calls while on phone. mobile call recorder. internet call recorder for all mobile. call recorder android. call recorder android phone. video call recorder for android. best call recorder for android.Best auto call recorder for android. best call recorder app for android. android call recorder. android call recorder full app free. recording apps. record my call app. record my call app pro. call my record. my call recorder. call my recorder. conversation recorder. call recorder hide app. call recorder hide app 2017. Call recorder hide app with password. conference call apps. free conference call app for android. conference call application free for 3 person. phone recorder. free voice recorder. voice recorder during call. voice call recorder during call for android. voice recorder app. voice call recorder. voice call recorder automatic. call recorder free. auto recording.'\n",
            " 'By using the family tracker you can Find your family location easily and real time.Parents who is worrying when his loved one is outside from homes then do not worry it is a best app which provides you Family live location of your loved ones and stay safe them.Track My Family is a private tracking systems which will track your family, friends and love ones continuously and repeatedly. Family locator is real time GPS tracker which gives you very accurate location details of your friends, family and relatives.Real time GPS Tracker has phone tracking facilities which help you to monitor or track your Friends, Family and relatives current locations with addresses.You can track your family or kids and watch him/her current movements and locations with address and you will live tension free.Track My Family and Find my Family help you when you are not near your parents and love one and you wants to see his/her current live locations then you can see the live locations. You can Find your family it helps you to see real time location by live Family GPS tracking systems and spot your friends and family locations in MAP.   How to Use :✓ Register yourself✓ Log in✓ Add your Family member, Added Member will receive a SMS with link of app.✓ Ask him to install Track my family app and accept your request. Once he will accepted your request, you can see his current location. It is two way tracking systems.✓ You can remove him/her from your tracking systems.✓ You can set geo fencing in meter when he/she will be out of range then you will get alerts.✓ You can change the geo fencing limit or remove the geo fencing.Features of Track my Family:✓ Track My Family Locator is real time GPS Tracking systems.✓ Family GPS Tracker is two way tracking systems your family oy friends can also find you and your locations.✓ Family GPS Tracker provides you to track your family member, Friends and relatives location.✓ Family GPS Tracker Track My Family gives you peace of mind when you are not near to your family or love ones. Just installed My Family Locator app and registered yourself.✓ Family GPS Tracker Track My Family is very useful for those who wants a safety for own family or for an old Parents.✓ Family GPS Tracker Track Location of your family members with address and on map. You can check the real time current location for all your family members just in a second.✓ Track My Family Locator provides Geo fencing alerts when your love ones will go outside of your restricted geo fencing then alerts will be triggered and you will receive regular notification on your phone.✓ Track My Family Family GPS Tracker provides you extra layer of protection and safety anytime anywhere with a dedicated real time GPS tracker very useful for Parents caring people.✓ Track My Family Tracker is a reliable phone application which can help you to know where are your kids, wife or an old parents in real time.✓ Family GPS Locator, Parents get confidence about his kids when Kids equipped this app he can got more confidence to move around the city.✓ Family GPS Tracker Track My Family can prevent your child of getting lost in new places. You can easily find you lost kids or love ones.✓ Family GPS Tracker Track My Family is state-of-art real time GPS tracking systems provides you details of your love ones on Map with current addresses.✓ Family GPS Tracker Track My Family gives route to your family location. Yo will get directions how to reach to your friends locations.Important Note : All family members must agree that it is being monitored by this GPS tracking app. Enable the Location, and Data card for better result.Once agreed and installed. GPS tracking system can give you real-time monitoring with addresses.Thanks. Please give your rating and feedback for better services.'\n",
            " ...\n",
            " \"You can experience real torch that have real motion and sound effect. Elegant interface,simple layout and convinient funtionality make up of this cool flashy fun light! Besides,it's totally free and support all the android devices.Strobe/blinking mode offer various blinking mode with SOS blinking mode.1. Brightest Flashlight instantly open;2. The super-fast, no background security more at ease;3. The interface is simple and easy to use;4. Completely free, energy saving in memory;5. fastest brightest, professional attitude is everything.The flashlight has also been recently tested to work well on the following devices:- For Samsung Galaxy S8- For Samsung Galaxy J7- For Samsung Galaxy J5- For Samsung Galaxy J3- For Samsung Galaxy Grand Prime- For Samsung Galaxy Core- For Samsung Galaxy S7- For Samsung Galaxy S6- For Samsung Galaxy A8- For Samsung Galaxy A7- For Samsung Galaxy A6- For Samsung Galaxy S5- For Samsung Galaxy S4- For Samsung Galaxy S3- For Samsung Galaxy S1- For Samsung Galaxy S2- For Samsung Galaxy Note5- For Samsung Galaxy Note4- For Samsung Galaxy Note3- For Samsung Galaxy Note2- For Samsung Galaxy Express\"\n",
            " 'Cable Remote Control  General Considerations:                                                            With the Cable Remote Control you can control beyond your Xfinity receiver  or other Set Top Box models  (there are over a thousand controls), your TV, DVD, Home Theater, BD and more.* For now, the App only Works on devices that have na infrared (IR) emitter. Soon in equipment with WI-FI communication.* Some devices with infrared may not be compatible with this AppControl STB Brands: Sky Directv, Tivo, AZbox, AZamerica, Duosat, Motorola, Xfinity, Samsung, Insignia, Sony, Philips, Philco, Technicolor,  Comcast, Arris, Airtel, Changhong, Cisco, DigitalBox, Echostar Europe, Elsys, Google, Huewei, My Sky, Net Digital, Pace, Realiance, Skybox, Sun Direct, Zinwell, etc.* Supported Xfinity Receiver Models: ALL Xfinity Receiver models* Supported SKY Receiver Models: SKY/DirecTV SD SKY/DirecTV HDTV/HDTV+ SKY DRX890i SKY HD (International) SKYBOX F5 TaTa SKY SKY DSB-P990V Sky DRX/DSB-P Series Sky Foxsat HDR Series SKY Livre* Supported Directv Receiver Models: ALL Directv models* List Device Compatible:HTC One (M7)HTC One MaxLG G2LG G FlexLG G Pro LiteLG Spirit HLG Optimus F6LG Optimus G ProLG Optimus L9 IISamsung Galaxy Note 3Samsung Galaxy S4Samsung Galaxy S4 MiniSamsung Galaxy S4 ActiveSamsung Galaxy MegaSony Xperia Z (Japanese version only)Sony Xperia Z1 (Japanese version only)Sony Xperia ZL ZTE Nubia Z5SHTC One (M8)Huawei Honor 6Huawei Honor 6 PlusLG G2 MiniLG G3LG G3 S (Vigor)LG L90LG G VistaLG VoltSamsung ATIV SESamsung Galaxy Note 3 NeoSamsung Galaxy Note 4Samsung Galaxy Note EdgeSamsung Galaxy S5Samsung Galaxy S5 ActiveSamsung Galaxy S5 DuosSamsung Galaxy S5 MiniSamsung Galaxy S5 DuosSamsung Galaxy S6Samsung Galaxy S6 EdgeXiaomi Mi 4ZTE Grand Memo II LTEZTE Grand X MaxZTE Nubia X6ZTE Nubia Z7ZTE Nubia Z7 MaxHTC One (M9)HTC One M9+Huawei Honor 7LG G Flex 2LG G4LG V10Medion P10341 (ALDI)Oppo Mirror 5Oppo Mirror 5sSamsung Galaxy S6Samsung Galaxy S6 ActiveXiaomi Redmi Note 2Xiaomi Redmi Note 2 PrimeZTE Grand X Max+ZTE Nubia Z9Xiaomi Mi 4CGionee Marathon M5Xiaomi Redmi Note 3Xiaomi Redmi 3Letv Le 1sLetv LeMaxLenovo Vibe X3Panasonic P55 NovoHuawei Honor 8LG G5Ulefone PowerUlefone ViennaXiaomi Mi 5Xiaomi Mi 4sXiaomi Mi 3s PrimeXiaomi Redmi Note 3 ProXiaomi Redmi Note 4Xiaomi MaxLeTV le 1sLetv le MaxHuawei P9 PlusLeEco Le 2LeEco Le 2 ProLeEco Le Max 2Lenovo Vibe X3LG V20Motorola Moto X ForceAsus Zenfone 3'\n",
            " \"Parcel track & trace for postal services in Malaysia[Postal Services]- Pos Malaysia (Poslaju, EMS, PosDaftar(Registered), PosExpress...)- Skynet- GDEX- ABX- CITY-LINK- UPS- DHL- FEDEX- TNT- AIRPAK- KANGAROO- NATIONWIDE- TA-Q-BIN- DEX-I- COMONE- DPE (Air only)- KTM Distribution- Lazada Express[Features]- Allow to track up to 10 numbers at a time.- Postal services contact info- Store tracking history (100 numbers)- Watchlist (for update status on the background. Max 10 items)- Auto update watchlist item and send notification if new status found- Input tracking number using Barcode scanner (required to install Barcode Scanner app)- ( Pro version only ) Backup or restore tracking history and watchlist records (Backup location: Device storage or Google Drive) [**Disclaimer**]- To enable auto update feature to working properly, please make sure your phone power saver or security feature doesn't restrict the app to run at background and to make internet connection at background / while phone on sleeping state.- FENAPPS shall not be liable for any loss or damage caused by the usage of any information obtained from this application.\"]\n"
          ]
        }
      ]
    },
    {
      "cell_type": "code",
      "source": [
        "type(X[1])"
      ],
      "metadata": {
        "colab": {
          "base_uri": "https://localhost:8080/"
        },
        "id": "uxJFiO5Slztt",
        "outputId": "6e4af8dc-92fd-4d72-d85d-7944b8fa199f"
      },
      "execution_count": null,
      "outputs": [
        {
          "output_type": "execute_result",
          "data": {
            "text/plain": [
              "str"
            ]
          },
          "metadata": {},
          "execution_count": 4
        }
      ]
    },
    {
      "cell_type": "code",
      "source": [
        "!pip install transformers"
      ],
      "metadata": {
        "colab": {
          "base_uri": "https://localhost:8080/"
        },
        "id": "rIfkL6RFUk2z",
        "outputId": "00e3f83c-69bb-44e2-ff3e-8167b30957cc"
      },
      "execution_count": null,
      "outputs": [
        {
          "output_type": "stream",
          "name": "stdout",
          "text": [
            "Looking in indexes: https://pypi.org/simple, https://us-python.pkg.dev/colab-wheels/public/simple/\n",
            "Collecting transformers\n",
            "  Downloading transformers-4.21.3-py3-none-any.whl (4.7 MB)\n",
            "\u001b[K     |████████████████████████████████| 4.7 MB 7.4 MB/s \n",
            "\u001b[?25hRequirement already satisfied: packaging>=20.0 in /usr/local/lib/python3.7/dist-packages (from transformers) (21.3)\n",
            "Requirement already satisfied: numpy>=1.17 in /usr/local/lib/python3.7/dist-packages (from transformers) (1.21.6)\n",
            "Requirement already satisfied: filelock in /usr/local/lib/python3.7/dist-packages (from transformers) (3.8.0)\n",
            "Requirement already satisfied: tqdm>=4.27 in /usr/local/lib/python3.7/dist-packages (from transformers) (4.64.1)\n",
            "Requirement already satisfied: regex!=2019.12.17 in /usr/local/lib/python3.7/dist-packages (from transformers) (2022.6.2)\n",
            "Collecting huggingface-hub<1.0,>=0.1.0\n",
            "  Downloading huggingface_hub-0.9.1-py3-none-any.whl (120 kB)\n",
            "\u001b[K     |████████████████████████████████| 120 kB 38.0 MB/s \n",
            "\u001b[?25hRequirement already satisfied: pyyaml>=5.1 in /usr/local/lib/python3.7/dist-packages (from transformers) (6.0)\n",
            "Collecting tokenizers!=0.11.3,<0.13,>=0.11.1\n",
            "  Downloading tokenizers-0.12.1-cp37-cp37m-manylinux_2_12_x86_64.manylinux2010_x86_64.whl (6.6 MB)\n",
            "\u001b[K     |████████████████████████████████| 6.6 MB 41.7 MB/s \n",
            "\u001b[?25hRequirement already satisfied: importlib-metadata in /usr/local/lib/python3.7/dist-packages (from transformers) (4.12.0)\n",
            "Requirement already satisfied: requests in /usr/local/lib/python3.7/dist-packages (from transformers) (2.23.0)\n",
            "Requirement already satisfied: typing-extensions>=3.7.4.3 in /usr/local/lib/python3.7/dist-packages (from huggingface-hub<1.0,>=0.1.0->transformers) (4.1.1)\n",
            "Requirement already satisfied: pyparsing!=3.0.5,>=2.0.2 in /usr/local/lib/python3.7/dist-packages (from packaging>=20.0->transformers) (3.0.9)\n",
            "Requirement already satisfied: zipp>=0.5 in /usr/local/lib/python3.7/dist-packages (from importlib-metadata->transformers) (3.8.1)\n",
            "Requirement already satisfied: idna<3,>=2.5 in /usr/local/lib/python3.7/dist-packages (from requests->transformers) (2.10)\n",
            "Requirement already satisfied: certifi>=2017.4.17 in /usr/local/lib/python3.7/dist-packages (from requests->transformers) (2022.6.15)\n",
            "Requirement already satisfied: chardet<4,>=3.0.2 in /usr/local/lib/python3.7/dist-packages (from requests->transformers) (3.0.4)\n",
            "Requirement already satisfied: urllib3!=1.25.0,!=1.25.1,<1.26,>=1.21.1 in /usr/local/lib/python3.7/dist-packages (from requests->transformers) (1.24.3)\n",
            "Installing collected packages: tokenizers, huggingface-hub, transformers\n",
            "Successfully installed huggingface-hub-0.9.1 tokenizers-0.12.1 transformers-4.21.3\n"
          ]
        }
      ]
    },
    {
      "cell_type": "code",
      "source": [
        "import torch\n",
        "from transformers import AutoTokenizer, AutoModelWithLMHead"
      ],
      "metadata": {
        "id": "JtIc3mUDUvja"
      },
      "execution_count": null,
      "outputs": []
    },
    {
      "cell_type": "code",
      "source": [
        "tokenizer = AutoTokenizer.from_pretrained('t5-base')\n",
        "model = AutoModelWithLMHead.from_pretrained('t5-base', return_dict=True)"
      ],
      "metadata": {
        "colab": {
          "base_uri": "https://localhost:8080/",
          "height": 304,
          "referenced_widgets": [
            "a689814b9ca04713a716bdc5d90124cc",
            "f6c77f4119e5470d80f03fcd37a86d81",
            "4dc733d1445847cfaf33b0fa760af7a0",
            "118132a30513409ea7c99e5d0d20972c",
            "12b9ba1c25e94ebe8fda2788f67357ed",
            "08b4dcf872af47738041def956e3479d",
            "1abdd0b5df0d43699c05b5cacd2bab9e",
            "c7f7cbd36a814fb5aa8148a1f391a6d8",
            "d7822903e4b24dbe80241c6d7f0892fc",
            "98ca2ecd60c74b698a8558ca3da9b8ea",
            "ae2a769d3da74a318eacf8fde97d7947",
            "7f47f8a47777499eb301ea852e396031",
            "211a4afc9ec14f95b1ad8e25c9800895",
            "670429b7351049988c18ca655cca03fa",
            "d3529daf9f91439eba4281a89198492c",
            "84d16926455f491eb5af7c9df4f76bda",
            "1fc903bc297e478f9a4277e5f64939f3",
            "77a0d425281442aea772847da8a24c37",
            "c856cb63dbc548fb990cef9615edcfd3",
            "9bfd5d4312734159849bbb98feced68c",
            "472632e608e4483295e4b2161f570f35",
            "59d161987738491eafad4ec2acd59766",
            "815add47559b44a091e63cb0832c8335",
            "a3fdb452c9554c97a148f2e9369ec9f9",
            "3a6f9231203f4dfd91270370a2939e09",
            "a018d88dfa9b483baefe6f63a1586e62",
            "8b5ff9218f03494ab2eedb1ddea34b19",
            "0e2f218a5d5340bcb56017961d598162",
            "0b5e2685943f49ffbfa722534ab0d00e",
            "dd0d084dab5a4271a5bd638772755a76",
            "d9b5279e618d4fc799323212e7e15d31",
            "5d81ae53037e4daa8246593242accfea",
            "4a611fa942be4f6c82112677954c80d8",
            "d716833592004e3a8b29e9f83dfbb586",
            "e53acb2f753e444f9dc97080513dec61",
            "3d7d1462c9ec45b6bd9fbf550879bdbb",
            "e4fead1d232c4555bd2d2f4b593a0671",
            "326de842a9c14d72a82f91cfb66c9609",
            "2100204417d94659a078adb25e3d1129",
            "28fe8ff6b67f40d8bbda983840b4010f",
            "5c57553072884f359f75f2e581850a53",
            "43076009f62843d6bd3c940a2989762f",
            "1d64e57033d04919857a4760c0cbd61b",
            "5a4a68d894014142a60f204fbd225469"
          ]
        },
        "id": "Pz9qGncvVUII",
        "outputId": "3d6ae94c-4cf9-49d5-9dd1-8136e521c411"
      },
      "execution_count": null,
      "outputs": [
        {
          "output_type": "display_data",
          "data": {
            "text/plain": [
              "Downloading config.json:   0%|          | 0.00/1.17k [00:00<?, ?B/s]"
            ],
            "application/vnd.jupyter.widget-view+json": {
              "version_major": 2,
              "version_minor": 0,
              "model_id": "a689814b9ca04713a716bdc5d90124cc"
            }
          },
          "metadata": {}
        },
        {
          "output_type": "display_data",
          "data": {
            "text/plain": [
              "Downloading spiece.model:   0%|          | 0.00/773k [00:00<?, ?B/s]"
            ],
            "application/vnd.jupyter.widget-view+json": {
              "version_major": 2,
              "version_minor": 0,
              "model_id": "7f47f8a47777499eb301ea852e396031"
            }
          },
          "metadata": {}
        },
        {
          "output_type": "display_data",
          "data": {
            "text/plain": [
              "Downloading tokenizer.json:   0%|          | 0.00/1.32M [00:00<?, ?B/s]"
            ],
            "application/vnd.jupyter.widget-view+json": {
              "version_major": 2,
              "version_minor": 0,
              "model_id": "815add47559b44a091e63cb0832c8335"
            }
          },
          "metadata": {}
        },
        {
          "output_type": "stream",
          "name": "stderr",
          "text": [
            "/usr/local/lib/python3.7/dist-packages/transformers/models/t5/tokenization_t5_fast.py:166: FutureWarning: This tokenizer was incorrectly instantiated with a model max length of 512 which will be corrected in Transformers v5.\n",
            "For now, this behavior is kept to avoid breaking backwards compatibility when padding/encoding with `truncation is True`.\n",
            "- Be aware that you SHOULD NOT rely on t5-base automatically truncating your input to 512 when padding/encoding.\n",
            "- If you want to encode/pad to sequences longer than 512 you can either instantiate this tokenizer with `model_max_length` or pass `max_length` when encoding/padding.\n",
            "- To avoid this warning, please instantiate this tokenizer with `model_max_length` set to your preferred value.\n",
            "  FutureWarning,\n",
            "/usr/local/lib/python3.7/dist-packages/transformers/models/auto/modeling_auto.py:1002: FutureWarning: The class `AutoModelWithLMHead` is deprecated and will be removed in a future version. Please use `AutoModelForCausalLM` for causal language models, `AutoModelForMaskedLM` for masked language models and `AutoModelForSeq2SeqLM` for encoder-decoder models.\n",
            "  FutureWarning,\n"
          ]
        },
        {
          "output_type": "display_data",
          "data": {
            "text/plain": [
              "Downloading pytorch_model.bin:   0%|          | 0.00/850M [00:00<?, ?B/s]"
            ],
            "application/vnd.jupyter.widget-view+json": {
              "version_major": 2,
              "version_minor": 0,
              "model_id": "d716833592004e3a8b29e9f83dfbb586"
            }
          },
          "metadata": {}
        }
      ]
    },
    {
      "cell_type": "code",
      "source": [
        "sequence = X[1]\n",
        "print(sequence)"
      ],
      "metadata": {
        "colab": {
          "base_uri": "https://localhost:8080/"
        },
        "id": "kBEj2jmDVspD",
        "outputId": "3074b0e3-5529-472b-d864-925a6adfb055"
      },
      "execution_count": null,
      "outputs": [
        {
          "output_type": "stream",
          "name": "stdout",
          "text": [
            "Record phone call automatic conversation recorder. record phone calls while on phone. recording apps. call recording apps download. hide call recording apps. phone recorder. phone recorder both sides of the conversation. phone call recorder app. phone call recorder automatic. free call recorder for android phone. automatic call recorder record my call. automatic call recorder hide apps. automatic call recorder for me record app. automatic call recorder 2017 latest. automatic call recorder professional. automatic recorder. call automatic recorder. Voice Recorder During Call.Call Recorder 2017 New. Auto Call Recorder Best Voice Phone Call Recording. Voice recorder during call when needed. Call recorder 2017 for Samsung. Auto call recording software free download. Record phone calls while on phone. Sound recorder call recorder. Audio recorder call. How to record a phone call conversation. Auto call recording application download. Automatic call recorder acr. Phone recorder incoming and outgoing. Automatic voice recorder during call without beep sound. Call recorder hide app with password. Voice recorder and call recorder. Voice recorder android. Free app to record phone calls. Mobile call voice recorder. Record phone calls from both sides. Voice recording microphone. Record all my phone calls secretly. Phone call audio recorder. Other call trace recording app download. Call recorder automatic two sided for android mobile. Voice recorder app free download. Whatsapp voice call recorder app. Tape recorders free app for android. Digital voice recorder. Auto call recorder 2017 full version. Cell phone conversation recorder. Call log recorder. Bold. Call recorder in and out. Call recorder one touch. Recorder voice recorder. record call. record call automatically. automatically call record. all voice call recorder automatically. auto record call. auto call record 2017 pro. auto call recorder. auto call recorder 2017 full version. auto call recorder unlimited auto save. auto call recorder 2017 professional. call auto recorder. conversation recorder. phone recording app. phone recording during calling. auto call recording for android phone. phone recording. call recorder pro 2017. call recorder pro latest version.Voice call recorder. voice call recorder automatic. call voice recorder automatic. voice call recorder during call for android. auto voice call recorder. auto call recorder. auto call recorder unlimited auto save. hidden call recorder without icon. hidden call recorder without icon another phone. hidden call recorder app. hidden call recorder app without icon. hidden auto call recorder app without icon. hidden call recorder automatic. automatic hidden call recorder. all call recorder app. all call recorder unlimited. all call recorder 2017 latest. auto all call recorder 2017. all call recorder automatic app is supported in all android phone. all call recorder automatic hidden. auto all call recorder and save. free call recorder for all calls. automatic recording. automatic recording call. automatic call. record phone calls while on phone. mobile call recorder. internet call recorder for all mobile. call recorder android. call recorder android phone. video call recorder for android. best call recorder for android.Best auto call recorder for android. best call recorder app for android. android call recorder. android call recorder full app free. recording apps. record my call app. record my call app pro. call my record. my call recorder. call my recorder. conversation recorder. call recorder hide app. call recorder hide app 2017. Call recorder hide app with password. conference call apps. free conference call app for android. conference call application free for 3 person. phone recorder. free voice recorder. voice recorder during call. voice call recorder during call for android. voice recorder app. voice call recorder. voice call recorder automatic. call recorder free. auto recording.\n"
          ]
        }
      ]
    },
    {
      "cell_type": "code",
      "source": [
        "summary_list = []\n",
        "\n",
        "for i in range(0,400) :\n",
        "  sequence = X[i]\n",
        "  inputs = tokenizer.encode(\"summarize: \"+ sequence, return_tensors = 'pt', max_length=512, truncation=True)\n",
        "  outputs = model.generate(inputs, max_length = 150, min_length = 60, length_penalty = 5., num_beams = 2)\n",
        "  summary = tokenizer.decode(outputs[0])\n",
        "  summary_list.append(summary)\n"
      ],
      "metadata": {
        "id": "WevM2K-GrhjV"
      },
      "execution_count": null,
      "outputs": []
    },
    {
      "cell_type": "code",
      "source": [
        "# print(*summary_list, sep = \"\\n\")"
      ],
      "metadata": {
        "colab": {
          "base_uri": "https://localhost:8080/"
        },
        "id": "vMa0Svt8t_Fc",
        "outputId": "7008d163-7a25-45c6-94af-3f357e581129"
      },
      "execution_count": null,
      "outputs": [
        {
          "output_type": "stream",
          "name": "stdout",
          "text": [
            "<pad> free automatic call recorder for android phone. free call recorder for all calls. automatic call recorder for android phone. free call recorder for all calls. automatic call recorder for android phone. free call recorder for all calls. automatic call recorder for android phone. free call recorder for all calls.</s>\n"
          ]
        }
      ]
    },
    {
      "cell_type": "code",
      "source": [
        "for i in range(400, 4921) :\n",
        "  summary_list.append(\"-\")"
      ],
      "metadata": {
        "id": "bK4sHewPKG3x"
      },
      "execution_count": null,
      "outputs": []
    },
    {
      "cell_type": "code",
      "source": [
        "len(summary_list)"
      ],
      "metadata": {
        "colab": {
          "base_uri": "https://localhost:8080/"
        },
        "id": "LV0w4aTsLvQA",
        "outputId": "b56ec55d-67e2-4d0e-966d-401626c12c61"
      },
      "execution_count": null,
      "outputs": [
        {
          "output_type": "execute_result",
          "data": {
            "text/plain": [
              "4921"
            ]
          },
          "metadata": {},
          "execution_count": 33
        }
      ]
    },
    {
      "cell_type": "code",
      "source": [
        "dataset['Summary'] = summary_list"
      ],
      "metadata": {
        "id": "k5X97Sf5xl6F"
      },
      "execution_count": null,
      "outputs": []
    },
    {
      "cell_type": "code",
      "source": [
        "from google.colab import files\n",
        "\n",
        "dataset.to_csv('output.csv', encoding = 'utf-8-sig') \n",
        "files.download('output.csv')"
      ],
      "metadata": {
        "colab": {
          "base_uri": "https://localhost:8080/",
          "height": 17
        },
        "id": "dxuNzPD-MM8I",
        "outputId": "db546751-83e2-4028-e1b1-3c2ce1a3e35a"
      },
      "execution_count": null,
      "outputs": [
        {
          "output_type": "display_data",
          "data": {
            "text/plain": [
              "<IPython.core.display.Javascript object>"
            ],
            "application/javascript": [
              "\n",
              "    async function download(id, filename, size) {\n",
              "      if (!google.colab.kernel.accessAllowed) {\n",
              "        return;\n",
              "      }\n",
              "      const div = document.createElement('div');\n",
              "      const label = document.createElement('label');\n",
              "      label.textContent = `Downloading \"${filename}\": `;\n",
              "      div.appendChild(label);\n",
              "      const progress = document.createElement('progress');\n",
              "      progress.max = size;\n",
              "      div.appendChild(progress);\n",
              "      document.body.appendChild(div);\n",
              "\n",
              "      const buffers = [];\n",
              "      let downloaded = 0;\n",
              "\n",
              "      const channel = await google.colab.kernel.comms.open(id);\n",
              "      // Send a message to notify the kernel that we're ready.\n",
              "      channel.send({})\n",
              "\n",
              "      for await (const message of channel.messages) {\n",
              "        // Send a message to notify the kernel that we're ready.\n",
              "        channel.send({})\n",
              "        if (message.buffers) {\n",
              "          for (const buffer of message.buffers) {\n",
              "            buffers.push(buffer);\n",
              "            downloaded += buffer.byteLength;\n",
              "            progress.value = downloaded;\n",
              "          }\n",
              "        }\n",
              "      }\n",
              "      const blob = new Blob(buffers, {type: 'application/binary'});\n",
              "      const a = document.createElement('a');\n",
              "      a.href = window.URL.createObjectURL(blob);\n",
              "      a.download = filename;\n",
              "      div.appendChild(a);\n",
              "      a.click();\n",
              "      div.remove();\n",
              "    }\n",
              "  "
            ]
          },
          "metadata": {}
        },
        {
          "output_type": "display_data",
          "data": {
            "text/plain": [
              "<IPython.core.display.Javascript object>"
            ],
            "application/javascript": [
              "download(\"download_ceb088ab-b15b-428e-9d7d-1330fd228886\", \"output.csv\", 11219083)"
            ]
          },
          "metadata": {}
        }
      ]
    }
  ]
}